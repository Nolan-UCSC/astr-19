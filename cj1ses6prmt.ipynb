{
  "metadata": {
    "language_info": {
      "codemirror_mode": {
        "name": "python",
        "version": 3
      },
      "file_extension": ".py",
      "mimetype": "text/x-python",
      "name": "python",
      "nbconvert_exporter": "python",
      "pygments_lexer": "ipython3",
      "version": "3.8"
    },
    "kernelspec": {
      "name": "python",
      "display_name": "Python (Pyodide)",
      "language": "python"
    }
  },
  "nbformat_minor": 4,
  "nbformat": 4,
  "cells": [
    {
      "cell_type": "markdown",
      "source": "# Function to calculate sin(x)",
      "metadata": {}
    },
    {
      "cell_type": "code",
      "source": "import math",
      "metadata": {
        "trusted": true
      },
      "execution_count": 11,
      "outputs": []
    },
    {
      "cell_type": "markdown",
      "source": "# you got to have numpy (pronounce it like Prof Brant Robertson)",
      "metadata": {}
    },
    {
      "cell_type": "code",
      "source": "import numpy as np",
      "metadata": {
        "trusted": true
      },
      "execution_count": 12,
      "outputs": []
    },
    {
      "cell_type": "markdown",
      "source": "# this function returns the sin value of x",
      "metadata": {}
    },
    {
      "cell_type": "code",
      "source": "def sinfun(x):\n    return math.sin(x)",
      "metadata": {
        "trusted": true
      },
      "execution_count": 13,
      "outputs": []
    },
    {
      "cell_type": "markdown",
      "source": "# this function returns the cos of x",
      "metadata": {}
    },
    {
      "cell_type": "code",
      "source": "def cosfun(x):\n    return math.cos(x)",
      "metadata": {
        "trusted": true
      },
      "execution_count": 14,
      "outputs": []
    },
    {
      "cell_type": "markdown",
      "source": "# Create a third Python cell that will tabulate sin(x) and cos(x) \n# using these previously defined functions vs. x\n# x is tabulated between 0 and 2 with a thousand entries",
      "metadata": {}
    },
    {
      "cell_type": "code",
      "source": "entries = 1000\nx_tabulated = [i * (2 * math.pi) / (entries - 1) for i in range(entries)]\nsin_val = [sinfun(x) for x in x_tabulated]\ncos_val = [cosfun(x) for x in x_tabulated]",
      "metadata": {
        "trusted": true
      },
      "execution_count": 17,
      "outputs": []
    },
    {
      "cell_type": "markdown",
      "source": "# Write a fourth Python cell that will use a for loop to print out \n# the first 10 values of x, sin(x), and cos(x) in columns.",
      "metadata": {}
    },
    {
      "cell_type": "code",
      "source": "for i in range(10):\n    x = x_tabulated[i]\n    sin_x = sin_val[i]\n    cos_x = cos_val[i]\n    print(f\"{x}\\t{sin_x}\\t{cos_x}\")",
      "metadata": {
        "trusted": true
      },
      "execution_count": 18,
      "outputs": [
        {
          "name": "stdout",
          "text": "0.0\t0.0\t1.0\n0.006289474781961547\t0.006289433316067751\t0.9999802213186832\n0.012578949563923095\t0.012578617838741058\t0.9999208860571255\n0.018868424345884642\t0.01886730478446709\t0.9998219965624732\n0.02515789912784619\t0.025155245389375847\t0.9996835567465339\n0.03144737390980774\t0.0314421909191206\t0.9995055720856215\n0.037736848691769284\t0.03772789267871718\t0.99928804962034\n0.04402632347373083\t0.04401210202238166\t0.9990309979553044\n0.05031579825569238\t0.05029457036336618\t0.9987344272588006\n0.05660527303765393\t0.05657504918379235\t0.9983983492623831\n",
          "output_type": "stream"
        }
      ]
    },
    {
      "cell_type": "code",
      "source": "",
      "metadata": {},
      "execution_count": null,
      "outputs": []
    }
  ]
}