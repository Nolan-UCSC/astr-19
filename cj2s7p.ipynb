{
 "cells": [
  {
   "cell_type": "markdown",
   "id": "5e28f896-31bd-4413-80aa-d57e511f2ba8",
   "metadata": {},
   "source": [
    "Session 7 Prompt:"
   ]
  },
  {
   "cell_type": "markdown",
   "id": "9b9ce36a-8f91-4cd4-8530-af8d9d5e07be",
   "metadata": {},
   "source": [
    "import matplotlib."
   ]
  },
  {
   "cell_type": "code",
   "execution_count": 1,
   "id": "b188e298-a253-4527-adde-babd1655a0b4",
   "metadata": {},
   "outputs": [],
   "source": [
    "import numpy as np\n",
    "import matplotlib.pyplot as plt"
   ]
  },
  {
   "cell_type": "markdown",
   "id": "423f89a2-c2ea-455a-8fd5-b2e05fa5a61e",
   "metadata": {},
   "source": [
    "Write cells that create an array x ranging from [0,1] in 100 steps"
   ]
  },
  {
   "cell_type": "code",
   "execution_count": null,
   "id": "e7c4429b-1b25-44d7-8c4a-1ce5e3ff0e12",
   "metadata": {},
   "outputs": [],
   "source": [
    "x = np.linspace(0, 1, 100)"
   ]
  },
  {
   "cell_type": "markdown",
   "id": "56a87d49-b607-4a8d-9737-3325d3942d91",
   "metadata": {},
   "source": [
    "and that defines a function that returns exp(x)"
   ]
  },
  {
   "cell_type": "code",
   "execution_count": null,
   "id": "a612b901-b9d6-491c-a858-28f5066b15fd",
   "metadata": {},
   "outputs": [],
   "source": [
    "def exp(x):\n",
    "    return np.exp(x)\n"
   ]
  },
  {
   "cell_type": "markdown",
   "id": "58413866-77ce-4f13-9032-112165d6a089",
   "metadata": {},
   "source": [
    "In a new cell use the function to set y=exp(x)"
   ]
  },
  {
   "cell_type": "code",
   "execution_count": null,
   "id": "980b833d-2d39-4f78-b900-a78e0aaedc80",
   "metadata": {},
   "outputs": [],
   "source": [
    "y = exp(x)"
   ]
  },
  {
   "cell_type": "markdown",
   "id": "4f800010-3ccf-4016-b771-6dadac1f8242",
   "metadata": {},
   "source": [
    "and then plot x vs. y. Label the x-axis as “Time [milliseconds]” and the y-axis as “Awesomeness”."
   ]
  },
  {
   "cell_type": "markdown",
   "id": "d1b516db-5c99-44de-9f2c-04f5442d7ef1",
   "metadata": {},
   "source": [
    "Save the figure as a PDF"
   ]
  },
  {
   "cell_type": "code",
   "execution_count": null,
   "id": "db375236-7094-4b77-92f9-5b06c64dcb2a",
   "metadata": {},
   "outputs": [],
   "source": [
    "plt.plot(x, y)\n",
    "#label the axes\n",
    "plt.xlabel('Time [milliseconds]')\n",
    "plt.ylabel('Awesomeness')\n",
    "#label the title\n",
    "plt.title('Awesomeness Over Time')\n",
    "# Save the figure\n",
    "plt.savefig('awesomeness_over_time.pdf')\n",
    "# Display the plot\n",
    "plt.show()"
   ]
  }
 ],
 "metadata": {
  "kernelspec": {
   "display_name": "Python 3 (ipykernel)",
   "language": "python",
   "name": "python3"
  },
  "language_info": {
   "codemirror_mode": {
    "name": "ipython",
    "version": 3
   },
   "file_extension": ".py",
   "mimetype": "text/x-python",
   "name": "python",
   "nbconvert_exporter": "python",
   "pygments_lexer": "ipython3",
   "version": "3.10.4"
  }
 },
 "nbformat": 4,
 "nbformat_minor": 5
}
